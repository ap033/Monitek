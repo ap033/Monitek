{
  "nbformat": 4,
  "nbformat_minor": 0,
  "metadata": {
    "colab": {
      "name": "MONITEK.ipynb",
      "provenance": [],
      "collapsed_sections": []
    },
    "kernelspec": {
      "name": "python3",
      "display_name": "Python 3"
    },
    "language_info": {
      "name": "python"
    },
    "accelerator": "GPU"
  },
  "cells": [
    {
      "cell_type": "code",
      "metadata": {
        "id": "tEYV9n_GiFUq"
      },
      "source": [
        "import tensorflow\n",
        "from tensorflow.keras.preprocessing.image import ImageDataGenerator\n",
        "from tensorflow.keras.models import Sequential\n",
        "from tensorflow.keras.layers import Dense,Conv2D,Flatten,Dropout,MaxPooling2D,Activation\n",
        "from tensorflow.keras.preprocessing import image\n",
        "import matplotlib.pyplot as plt\n",
        "import matplotlib.image as mpimg"
      ],
      "execution_count": null,
      "outputs": []
    },
    {
      "cell_type": "code",
      "metadata": {
        "colab": {
          "base_uri": "https://localhost:8080/"
        },
        "id": "Se17m2w5O-rx",
        "outputId": "b8db38ba-fa05-464f-e000-6f941706cfea"
      },
      "source": [
        "!pip install pyfbx"
      ],
      "execution_count": 4,
      "outputs": [
        {
          "output_type": "stream",
          "text": [
            "Requirement already satisfied: pyfbx in /usr/local/lib/python3.7/dist-packages (0.0.8)\n",
            "Requirement already satisfied: requests in /usr/local/lib/python3.7/dist-packages (from pyfbx) (2.23.0)\n",
            "Requirement already satisfied: zeroconf in /usr/local/lib/python3.7/dist-packages (from pyfbx) (0.28.8)\n",
            "Requirement already satisfied: idna<3,>=2.5 in /usr/local/lib/python3.7/dist-packages (from requests->pyfbx) (2.10)\n",
            "Requirement already satisfied: chardet<4,>=3.0.2 in /usr/local/lib/python3.7/dist-packages (from requests->pyfbx) (3.0.4)\n",
            "Requirement already satisfied: urllib3!=1.25.0,!=1.25.1,<1.26,>=1.21.1 in /usr/local/lib/python3.7/dist-packages (from requests->pyfbx) (1.24.3)\n",
            "Requirement already satisfied: certifi>=2017.4.17 in /usr/local/lib/python3.7/dist-packages (from requests->pyfbx) (2020.12.5)\n",
            "Requirement already satisfied: ifaddr>=0.1.7 in /usr/local/lib/python3.7/dist-packages (from zeroconf->pyfbx) (0.1.7)\n"
          ],
          "name": "stdout"
        }
      ]
    },
    {
      "cell_type": "code",
      "metadata": {
        "id": "JIgAV8ePPF2A"
      },
      "source": [
        "import pyfbx"
      ],
      "execution_count": 9,
      "outputs": []
    },
    {
      "cell_type": "code",
      "metadata": {
        "colab": {
          "base_uri": "https://localhost:8080/"
        },
        "id": "C2ScIEvb5MCm",
        "outputId": "a4b9deea-6307-46f5-8681-10298afd69f9"
      },
      "source": [
        "print(tensorflow.__version__)"
      ],
      "execution_count": null,
      "outputs": [
        {
          "output_type": "stream",
          "text": [
            "2.4.1\n"
          ],
          "name": "stdout"
        }
      ]
    },
    {
      "cell_type": "code",
      "metadata": {
        "id": "Fv4G9Pnu5xG3"
      },
      "source": [
        "img_width,img_height=150,150\n",
        "train_data_dir=r\"/content/drive/MyDrive/project/train\"\n",
        "validation_data_dir=r\"/content/drive/MyDrive/project/test\"\n",
        "nb_train_sample=100\n",
        "nb_validation_samples=100\n",
        "epochs=20\n",
        "batch_size=20"
      ],
      "execution_count": null,
      "outputs": []
    },
    {
      "cell_type": "code",
      "metadata": {
        "id": "2y2UUf9j7gIl"
      },
      "source": [
        "import tensorflow.keras.backend as k\n",
        "if k.image_data_format()==\"channels_first\":\n",
        "  input_shape=(3,img_width,img_height)\n",
        "else:\n",
        "  input_shape=(img_width,img_height,3)"
      ],
      "execution_count": null,
      "outputs": []
    },
    {
      "cell_type": "code",
      "metadata": {
        "id": "gvKQltdkTJMQ"
      },
      "source": [
        "train_datgen=ImageGenerator(rescale=1. /255,shear_range=0.2,zoom_range=0.2,horizontal_flip=True)\n",
        "test_datagen=ImageDataGenerator(rescale=1./255)\n",
        "train_generator=train_datgen.flow from directory(train_data_dir,target_size=(img_width,img_height),batch_size=batch_size,class_mode=\"binary\"),classes=['Spectacle','sunglasses'])\n",
        "validation_generator=test_datagen.flow_from_directory(validation_data_dir,target_size=(img_width,img_height),batch_size=batch_size,class_mode=\"binary\")"
      ],
      "execution_count": null,
      "outputs": []
    },
    {
      "cell_type": "code",
      "metadata": {
        "id": "kHptxemKTLYR"
      },
      "source": [
        "plt.figure(figsize=(12,12))\n",
        "for i in range(0,15):\n",
        "  plt.subplot(5,3,i+1)\n",
        "  for x_batch,y_batch in train_generator:\n",
        "    image=x_batch[0]\n",
        "    plt.imshow(image)\n",
        "    break\n",
        "    plt.tight_layout()\n",
        "    plt.show()\n"
      ],
      "execution_count": null,
      "outputs": []
    },
    {
      "cell_type": "code",
      "metadata": {
        "id": "T3ElQYzqT7gC"
      },
      "source": [
        "model=Sequential()\n",
        "model.add(pf(64,(3,3),input_shape=input_shape)\n",
        "model.add(Activation(\"relu\"))\n",
        "model.add(MaxPooling2D(poolsize=(2,2)))\n",
        "model.add(Flatten())\n",
        "model.add(Dense(64))\n",
        "model.add(Activation('relu'))\n",
        "model.add(Dense(1))\n",
        "model.add(Activation('sigmoid'))\n",
        "model.summary()"
      ],
      "execution_count": null,
      "outputs": []
    },
    {
      "cell_type": "code",
      "metadata": {
        "id": "IEDN5nfiYEzi"
      },
      "source": [
        "training=model.fit_generator(train_generator,steps_per_epochs=epochs,validation_data=validation_generator,validation_steps=nb_validation_samples)"
      ],
      "execution_count": null,
      "outputs": []
    },
    {
      "cell_type": "code",
      "metadata": {
        "id": "WsjYC_a_YtUs"
      },
      "source": [
        "plt.plot(training.history.keys())\n",
        "plt.plot(training.history['accuracy'])\n",
        "plt.plot(training.history['val_accuracy'])\n",
        "plt.title('model_accuracy')\n",
        "plt.ylabel('accuracy')\n",
        "plt.xlabel('epoch')\n",
        "plt.legend(['train,test'],loc='upperleft')\n",
        "plt.show()"
      ],
      "execution_count": null,
      "outputs": []
    },
    {
      "cell_type": "code",
      "metadata": {
        "id": "LqlXhW4ndrIi"
      },
      "source": [
        ""
      ],
      "execution_count": null,
      "outputs": []
    }
  ]
}